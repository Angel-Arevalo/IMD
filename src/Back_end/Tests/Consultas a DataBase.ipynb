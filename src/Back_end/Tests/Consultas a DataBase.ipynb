{
 "cells": [
  {
   "cell_type": "code",
   "execution_count": 16,
   "metadata": {},
   "outputs": [],
   "source": [
    "import sqlite3 as sql\n",
    "import pandas as pd \n",
    "\n",
    "Apuntador = sql.connect(r'..\\DataBase\\DataUsers.db')"
   ]
  },
  {
   "cell_type": "code",
   "execution_count": 3,
   "metadata": {},
   "outputs": [
    {
     "data": {
      "text/plain": [
       "<sqlite3.Cursor at 0x1b6e70ce0c0>"
      ]
     },
     "execution_count": 3,
     "metadata": {},
     "output_type": "execute_result"
    }
   ],
   "source": [
    "Apuntador.execute('''\n",
    "                    CREATE TABLE IF NOT EXISTS 'Usuarios_Registrados' (\n",
    "                        'Id' INT AUTO_INCREMENT,\n",
    "                        'Nombre_Usuario' TEXT PRIMARY KEY NOT NULL,\n",
    "                        'Contraseña' TEXT NOT NULL,\n",
    "                        'Rol' INT NOT NULL,\n",
    "                        'Email' TEXT NOT NULL,\n",
    "                        CHECK(Rol IN(1,2))\n",
    "                        )\n",
    "                ''')"
   ]
  },
  {
   "cell_type": "code",
   "execution_count": 42,
   "metadata": {},
   "outputs": [
    {
     "data": {
      "text/plain": [
       "<sqlite3.Cursor at 0x1bd6af9de40>"
      ]
     },
     "execution_count": 42,
     "metadata": {},
     "output_type": "execute_result"
    }
   ],
   "source": [
    "Apuntador.execute('''\n",
    "                    CREATE TABLE IF NOT EXISTS 'Roles' (\n",
    "                        'Id_Rol' INT PRIMARY KEY,\n",
    "                        'Rol' TEXT NOT NULL UNIQUE,\n",
    "                        CHECK(Rol IN(\"Estudiante\", \"Profesor\")),\n",
    "                        FOREIGN KEY(Id_Rol) REFERENCES Usuarios_Registrados(Rol)\n",
    "                        )\n",
    "                ''')"
   ]
  },
  {
   "cell_type": "code",
   "execution_count": 131,
   "metadata": {},
   "outputs": [
    {
     "ename": "IntegrityError",
     "evalue": "CHECK constraint failed: Rol IN(\"Estudiante\", \"Profesor\")",
     "output_type": "error",
     "traceback": [
      "\u001b[1;31m---------------------------------------------------------------------------\u001b[0m",
      "\u001b[1;31mIntegrityError\u001b[0m                            Traceback (most recent call last)",
      "Cell \u001b[1;32mIn[131], line 1\u001b[0m\n\u001b[1;32m----> 1\u001b[0m \u001b[43mApuntador\u001b[49m\u001b[38;5;241;43m.\u001b[39;49m\u001b[43mexecute\u001b[49m\u001b[43m(\u001b[49m\u001b[38;5;124;43m\"\u001b[39;49m\u001b[38;5;124;43mINSERT INTO Roles (Rol) VALUES (\u001b[39;49m\u001b[38;5;124;43m'\u001b[39;49m\u001b[38;5;124;43mNadador\u001b[39;49m\u001b[38;5;124;43m'\u001b[39;49m\u001b[38;5;124;43m)\u001b[39;49m\u001b[38;5;124;43m\"\u001b[39;49m\u001b[43m)\u001b[49m\n",
      "\u001b[1;31mIntegrityError\u001b[0m: CHECK constraint failed: Rol IN(\"Estudiante\", \"Profesor\")"
     ]
    }
   ],
   "source": [
    "Apuntador.execute(\"INSERT INTO Roles (Id_Rol, Rol) VALUES ('2', 'Profesor')\")"
   ]
  },
  {
   "cell_type": "code",
   "execution_count": 7,
   "metadata": {},
   "outputs": [
    {
     "data": {
      "text/plain": [
       "<sqlite3.Cursor at 0x1b6e88e73c0>"
      ]
     },
     "execution_count": 7,
     "metadata": {},
     "output_type": "execute_result"
    }
   ],
   "source": [
    "a = Apuntador.execute(\"SELECT MAX(Id) FROM Usuarios_Registrados\")\n",
    "a = a.fetchone()[0]\n",
    "num = int(a)+1 if (a is not None) else 1\n",
    "Apuntador.execute(f\"INSERT INTO Usuarios_Registrados (Id, Nombre_Usuario, Contraseña, Rol, Email) VALUES ({num},'JoseJose', '12345678', 2, 'a')\")"
   ]
  },
  {
   "cell_type": "code",
   "execution_count": 12,
   "metadata": {},
   "outputs": [],
   "source": [
    "df = pd.read_sql_query(\"PRAGMA table_info(Usuarios_Registrados)\", Apuntador)"
   ]
  },
  {
   "cell_type": "code",
   "execution_count": 53,
   "metadata": {},
   "outputs": [
    {
     "data": {
      "text/plain": [
       "<sqlite3.Cursor at 0x222afaf8dc0>"
      ]
     },
     "execution_count": 53,
     "metadata": {},
     "output_type": "execute_result"
    }
   ],
   "source": [
    "Apuntador.execute(\"DELETE FROM Usuarios_Registrados\")"
   ]
  },
  {
   "cell_type": "code",
   "execution_count": 7,
   "metadata": {},
   "outputs": [
    {
     "data": {
      "text/plain": [
       "<sqlite3.Cursor at 0x1bd6969e240>"
      ]
     },
     "execution_count": 7,
     "metadata": {},
     "output_type": "execute_result"
    }
   ],
   "source": [
    "Apuntador.execute(\"DROP TABLE Usuarios_Registrados\")"
   ]
  },
  {
   "cell_type": "code",
   "execution_count": 14,
   "metadata": {},
   "outputs": [
    {
     "name": "stdout",
     "output_type": "stream",
     "text": [
      "[(1,)]\n"
     ]
    }
   ],
   "source": [
    "b = Apuntador.execute(\"SELECT MAX(Id) FROM Usuarios_Registrados\")\n",
    "b = b.fetchall()\n",
    "print(b)"
   ]
  },
  {
   "cell_type": "code",
   "execution_count": 11,
   "metadata": {},
   "outputs": [],
   "source": [
    "df = pd.read_sql_query(\"SELECT Usuarios_Registrados.Nombre_Usuario, Roles.Rol FROM Usuarios_Registrados JOIN Roles ON Usuarios_Registrados.Rol = Roles.Id_Rol\", Apuntador)"
   ]
  },
  {
   "cell_type": "code",
   "execution_count": 196,
   "metadata": {},
   "outputs": [
    {
     "name": "stdout",
     "output_type": "stream",
     "text": [
      "True\n"
     ]
    }
   ],
   "source": [
    "b = Apuntador.execute(\"PRAGMA table_info('Usuarios_Registrados')\")\n",
    "b = bool(b.fetchall())\n",
    "print(b)"
   ]
  },
  {
   "cell_type": "code",
   "execution_count": 161,
   "metadata": {},
   "outputs": [],
   "source": [
    "df = pd.read_sql_query(\"SELECT name FROM sqlite_master WHERE type='table'\", Apuntador)"
   ]
  },
  {
   "cell_type": "code",
   "execution_count": 6,
   "metadata": {},
   "outputs": [],
   "source": [
    "b = Apuntador.execute(\"SELECT name FROM sqlite_master WHERE type='table'\")\n",
    "b = b.fetchall()\n",
    "for i in range(len(b)):\n",
    "    Apuntador.execute(f\"DROP TABLE '{b[i][0]}'\")\n",
    "\n",
    "#Cuidado"
   ]
  },
  {
   "cell_type": "code",
   "execution_count": 13,
   "metadata": {},
   "outputs": [
    {
     "ename": "OperationalError",
     "evalue": "near \"FUNCTION\": syntax error",
     "output_type": "error",
     "traceback": [
      "\u001b[1;31m---------------------------------------------------------------------------\u001b[0m",
      "\u001b[1;31mOperationalError\u001b[0m                          Traceback (most recent call last)",
      "Cell \u001b[1;32mIn[13], line 1\u001b[0m\n\u001b[1;32m----> 1\u001b[0m \u001b[43mApuntador\u001b[49m\u001b[38;5;241;43m.\u001b[39;49m\u001b[43mexecute\u001b[49m\u001b[43m(\u001b[49m\u001b[38;5;124;43m'''\u001b[39;49m\n\u001b[0;32m      2\u001b[0m \u001b[38;5;124;43m                    CREATE FUNCTION \u001b[39;49m\u001b[38;5;124;43m'\u001b[39;49m\u001b[38;5;124;43mget_max_id\u001b[39;49m\u001b[38;5;124;43m'\u001b[39;49m\u001b[38;5;124;43m(table_name TEXT)\u001b[39;49m\n\u001b[0;32m      3\u001b[0m \u001b[38;5;124;43m                    RETURNS INT\u001b[39;49m\n\u001b[0;32m      4\u001b[0m \u001b[38;5;124;43m                    AS\u001b[39;49m\n\u001b[0;32m      5\u001b[0m \u001b[38;5;124;43m                    BEGIN\u001b[39;49m\n\u001b[0;32m      6\u001b[0m \u001b[38;5;124;43m                    -- Check if the table exists\u001b[39;49m\n\u001b[0;32m      7\u001b[0m \u001b[38;5;124;43m                    IF NOT EXISTS (SELECT * FROM sqlite_master WHERE tbl_name = table_name AND type = \u001b[39;49m\u001b[38;5;124;43m'\u001b[39;49m\u001b[38;5;124;43mtable\u001b[39;49m\u001b[38;5;124;43m'\u001b[39;49m\u001b[38;5;124;43m);\u001b[39;49m\n\u001b[0;32m      8\u001b[0m \u001b[38;5;124;43m                    THEN\u001b[39;49m\n\u001b[0;32m      9\u001b[0m \u001b[38;5;124;43m                        RAISE EXCEPTION WITH MESSAGE \u001b[39;49m\u001b[38;5;124;43m'\u001b[39;49m\u001b[38;5;124;43mTable \u001b[39;49m\u001b[38;5;124;43m%\u001b[39;49m\u001b[38;5;124;43m not found\u001b[39;49m\u001b[38;5;124;43m'\u001b[39;49m\u001b[38;5;124;43m, table_name;\u001b[39;49m\n\u001b[0;32m     10\u001b[0m \u001b[38;5;124;43m                    END IF;\u001b[39;49m\n\u001b[0;32m     11\u001b[0m \n\u001b[0;32m     12\u001b[0m \u001b[38;5;124;43m                    -- Get the name of the ID attribute\u001b[39;49m\n\u001b[0;32m     13\u001b[0m \u001b[38;5;124;43m                    SELECT name FROM pragma_table_info(table_name) WHERE pk = 1 INTO attribute_name;\u001b[39;49m\n\u001b[0;32m     14\u001b[0m \n\u001b[0;32m     15\u001b[0m \u001b[38;5;124;43m                    -- Execute a query to get the maximum ID value\u001b[39;49m\n\u001b[0;32m     16\u001b[0m \u001b[38;5;124;43m                    SELECT MAX(attribute_name) FROM table_name INTO max_id;\u001b[39;49m\n\u001b[0;32m     17\u001b[0m \n\u001b[0;32m     18\u001b[0m \u001b[38;5;124;43m                    -- Return the maximum ID value\u001b[39;49m\n\u001b[0;32m     19\u001b[0m \u001b[38;5;124;43m                    RETURN max_id;\u001b[39;49m\n\u001b[0;32m     20\u001b[0m \u001b[38;5;124;43m                    END;\u001b[39;49m\n\u001b[0;32m     21\u001b[0m \u001b[38;5;124;43m'''\u001b[39;49m\u001b[43m)\u001b[49m\n",
      "\u001b[1;31mOperationalError\u001b[0m: near \"FUNCTION\": syntax error"
     ]
    }
   ],
   "source": [
    "Apuntador.execute('''\n",
    "                    CREATE FUNCTION 'get_max_id'(table_name TEXT)\n",
    "                    RETURNS INT\n",
    "                    AS\n",
    "                    BEGIN\n",
    "                    IF NOT EXISTS (SELECT * FROM sqlite_master WHERE tbl_name = table_name AND type = 'table');\n",
    "                    THEN\n",
    "                        RAISE EXCEPTION WITH MESSAGE 'Table % not found', table_name;\n",
    "                    END IF;\n",
    "                    SELECT name FROM pragma_table_info(table_name) WHERE pk = 1 INTO attribute_name;\n",
    "                    SELECT MAX(attribute_name) FROM table_name INTO max_id;\n",
    "                    RETURN max_id;\n",
    "                    END;\n",
    "''')"
   ]
  },
  {
   "cell_type": "code",
   "execution_count": 19,
   "metadata": {},
   "outputs": [],
   "source": [
    "df = pd.read_sql_query(\"SELECT * FROM Usuarios_Registrados;\", Apuntador)"
   ]
  },
  {
   "cell_type": "code",
   "execution_count": null,
   "metadata": {},
   "outputs": [],
   "source": [
    "df = pd.read_sql_query(\"SELECT get_max_id('Usuarios_Registrados');\", Apuntador)"
   ]
  },
  {
   "cell_type": "code",
   "execution_count": 20,
   "metadata": {},
   "outputs": [
    {
     "data": {
      "text/html": [
       "<div>\n",
       "<style scoped>\n",
       "    .dataframe tbody tr th:only-of-type {\n",
       "        vertical-align: middle;\n",
       "    }\n",
       "\n",
       "    .dataframe tbody tr th {\n",
       "        vertical-align: top;\n",
       "    }\n",
       "\n",
       "    .dataframe thead th {\n",
       "        text-align: right;\n",
       "    }\n",
       "</style>\n",
       "<table border=\"1\" class=\"dataframe\">\n",
       "  <thead>\n",
       "    <tr style=\"text-align: right;\">\n",
       "      <th></th>\n",
       "      <th>Id</th>\n",
       "      <th>Nombre_Usuario</th>\n",
       "      <th>Contraseña</th>\n",
       "      <th>Rol</th>\n",
       "      <th>Email</th>\n",
       "    </tr>\n",
       "  </thead>\n",
       "  <tbody>\n",
       "    <tr>\n",
       "      <th>0</th>\n",
       "      <td>1</td>\n",
       "      <td>Arielo</td>\n",
       "      <td>12345678</td>\n",
       "      <td>1</td>\n",
       "      <td>sdfgh@gmail.com</td>\n",
       "    </tr>\n",
       "    <tr>\n",
       "      <th>1</th>\n",
       "      <td>2</td>\n",
       "      <td>ja</td>\n",
       "      <td>12345678</td>\n",
       "      <td>1</td>\n",
       "      <td>cade@gmial.com</td>\n",
       "    </tr>\n",
       "    <tr>\n",
       "      <th>2</th>\n",
       "      <td>3</td>\n",
       "      <td>jo</td>\n",
       "      <td>12345678</td>\n",
       "      <td>1</td>\n",
       "      <td>jjiji@gmail.com</td>\n",
       "    </tr>\n",
       "  </tbody>\n",
       "</table>\n",
       "</div>"
      ],
      "text/plain": [
       "   Id Nombre_Usuario Contraseña  Rol            Email\n",
       "0   1         Arielo   12345678    1  sdfgh@gmail.com\n",
       "1   2             ja   12345678    1   cade@gmial.com\n",
       "2   3             jo   12345678    1  jjiji@gmail.com"
      ]
     },
     "execution_count": 20,
     "metadata": {},
     "output_type": "execute_result"
    }
   ],
   "source": [
    "df"
   ]
  },
  {
   "cell_type": "code",
   "execution_count": 21,
   "metadata": {},
   "outputs": [],
   "source": [
    "Apuntador.commit()\n",
    "Apuntador.close()"
   ]
  }
 ],
 "metadata": {
  "kernelspec": {
   "display_name": "Python 3",
   "language": "python",
   "name": "python3"
  },
  "language_info": {
   "codemirror_mode": {
    "name": "ipython",
    "version": 3
   },
   "file_extension": ".py",
   "mimetype": "text/x-python",
   "name": "python",
   "nbconvert_exporter": "python",
   "pygments_lexer": "ipython3",
   "version": "3.11.1"
  }
 },
 "nbformat": 4,
 "nbformat_minor": 2
}
